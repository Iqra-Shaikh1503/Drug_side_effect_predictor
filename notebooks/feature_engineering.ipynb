{
 "cells": [
  {
   "cell_type": "markdown",
   "id": "e86f0091",
   "metadata": {},
   "source": [
    "# Feature Engineering"
   ]
  },
  {
   "cell_type": "code",
   "execution_count": 49,
   "id": "525c3900",
   "metadata": {},
   "outputs": [],
   "source": [
    "import pandas as pd\n",
    "import numpy as np \n",
    "import seaborn as sns"
   ]
  },
  {
   "cell_type": "code",
   "execution_count": 50,
   "id": "49f8a91a",
   "metadata": {},
   "outputs": [],
   "source": [
    "df = pd.read_csv(r\"C:\\Users\\IQRA SHAIKH\\OneDrive\\Documents\\GitHub\\Drug_side_effect_predictor\\projects_files\\filtered_drug_data.csv\")"
   ]
  },
  {
   "cell_type": "code",
   "execution_count": 51,
   "id": "372114ba",
   "metadata": {},
   "outputs": [
    {
     "data": {
      "text/html": [
       "<div>\n",
       "<style scoped>\n",
       "    .dataframe tbody tr th:only-of-type {\n",
       "        vertical-align: middle;\n",
       "    }\n",
       "\n",
       "    .dataframe tbody tr th {\n",
       "        vertical-align: top;\n",
       "    }\n",
       "\n",
       "    .dataframe thead th {\n",
       "        text-align: right;\n",
       "    }\n",
       "</style>\n",
       "<table border=\"1\" class=\"dataframe\">\n",
       "  <thead>\n",
       "    <tr style=\"text-align: right;\">\n",
       "      <th></th>\n",
       "      <th>drug_name</th>\n",
       "      <th>medical_condition</th>\n",
       "      <th>side_effects</th>\n",
       "      <th>drug_classes</th>\n",
       "      <th>activity</th>\n",
       "      <th>pregnancy_category</th>\n",
       "      <th>rating</th>\n",
       "      <th>no_of_reviews</th>\n",
       "    </tr>\n",
       "  </thead>\n",
       "  <tbody>\n",
       "    <tr>\n",
       "      <th>0</th>\n",
       "      <td>doxycycline</td>\n",
       "      <td>Acne</td>\n",
       "      <td>(hives, difficult breathing, swelling in your ...</td>\n",
       "      <td>Miscellaneous antimalarials, Tetracyclines</td>\n",
       "      <td>87%</td>\n",
       "      <td>D</td>\n",
       "      <td>6.8</td>\n",
       "      <td>760.0</td>\n",
       "    </tr>\n",
       "    <tr>\n",
       "      <th>1</th>\n",
       "      <td>spironolactone</td>\n",
       "      <td>Acne</td>\n",
       "      <td>hives ; difficulty breathing; swelling of your...</td>\n",
       "      <td>Aldosterone receptor antagonists, Potassium-sp...</td>\n",
       "      <td>82%</td>\n",
       "      <td>C</td>\n",
       "      <td>7.2</td>\n",
       "      <td>449.0</td>\n",
       "    </tr>\n",
       "    <tr>\n",
       "      <th>2</th>\n",
       "      <td>minocycline</td>\n",
       "      <td>Acne</td>\n",
       "      <td>skin rash, fever, swollen glands, flu-like sym...</td>\n",
       "      <td>Tetracyclines</td>\n",
       "      <td>48%</td>\n",
       "      <td>D</td>\n",
       "      <td>5.7</td>\n",
       "      <td>482.0</td>\n",
       "    </tr>\n",
       "    <tr>\n",
       "      <th>3</th>\n",
       "      <td>Accutane</td>\n",
       "      <td>Acne</td>\n",
       "      <td>problems with your vision or hearing; muscle o...</td>\n",
       "      <td>Miscellaneous antineoplastics, Miscellaneous u...</td>\n",
       "      <td>41%</td>\n",
       "      <td>X</td>\n",
       "      <td>7.9</td>\n",
       "      <td>623.0</td>\n",
       "    </tr>\n",
       "    <tr>\n",
       "      <th>4</th>\n",
       "      <td>clindamycin</td>\n",
       "      <td>Acne</td>\n",
       "      <td>hives ; difficult breathing; swelling of your ...</td>\n",
       "      <td>Topical acne agents, Vaginal anti-infectives</td>\n",
       "      <td>39%</td>\n",
       "      <td>B</td>\n",
       "      <td>7.4</td>\n",
       "      <td>146.0</td>\n",
       "    </tr>\n",
       "  </tbody>\n",
       "</table>\n",
       "</div>"
      ],
      "text/plain": [
       "        drug_name medical_condition  \\\n",
       "0     doxycycline              Acne   \n",
       "1  spironolactone              Acne   \n",
       "2     minocycline              Acne   \n",
       "3        Accutane              Acne   \n",
       "4     clindamycin              Acne   \n",
       "\n",
       "                                        side_effects  \\\n",
       "0  (hives, difficult breathing, swelling in your ...   \n",
       "1  hives ; difficulty breathing; swelling of your...   \n",
       "2  skin rash, fever, swollen glands, flu-like sym...   \n",
       "3  problems with your vision or hearing; muscle o...   \n",
       "4  hives ; difficult breathing; swelling of your ...   \n",
       "\n",
       "                                        drug_classes activity  \\\n",
       "0         Miscellaneous antimalarials, Tetracyclines      87%   \n",
       "1  Aldosterone receptor antagonists, Potassium-sp...      82%   \n",
       "2                                      Tetracyclines      48%   \n",
       "3  Miscellaneous antineoplastics, Miscellaneous u...      41%   \n",
       "4       Topical acne agents, Vaginal anti-infectives      39%   \n",
       "\n",
       "  pregnancy_category  rating  no_of_reviews  \n",
       "0                  D     6.8          760.0  \n",
       "1                  C     7.2          449.0  \n",
       "2                  D     5.7          482.0  \n",
       "3                  X     7.9          623.0  \n",
       "4                  B     7.4          146.0  "
      ]
     },
     "execution_count": 51,
     "metadata": {},
     "output_type": "execute_result"
    }
   ],
   "source": [
    "df.head(5)"
   ]
  },
  {
   "cell_type": "markdown",
   "id": "a3fe66b1",
   "metadata": {},
   "source": [
    "Treating the null values "
   ]
  },
  {
   "cell_type": "code",
   "execution_count": 52,
   "id": "86a032ae",
   "metadata": {},
   "outputs": [
    {
     "data": {
      "text/plain": [
       "drug_name                0\n",
       "medical_condition        0\n",
       "side_effects           124\n",
       "drug_classes            82\n",
       "activity                 0\n",
       "pregnancy_category     229\n",
       "rating                1345\n",
       "no_of_reviews         1345\n",
       "dtype: int64"
      ]
     },
     "execution_count": 52,
     "metadata": {},
     "output_type": "execute_result"
    }
   ],
   "source": [
    "df.isnull().sum()"
   ]
  },
  {
   "cell_type": "markdown",
   "id": "90da2a49",
   "metadata": {},
   "source": [
    "# filling the null values in each column with respect to drug names"
   ]
  },
  {
   "cell_type": "code",
   "execution_count": 53,
   "id": "7f8d2e13",
   "metadata": {},
   "outputs": [],
   "source": [
    "df['drug_name'] = df['drug_name'].astype(str).str.lower().str.strip()\n"
   ]
  },
  {
   "cell_type": "code",
   "execution_count": null,
   "id": "4e98fa40",
   "metadata": {},
   "outputs": [
    {
     "name": "stdout",
     "output_type": "stream",
     "text": [
      "Remaining nulls in side_effects: 0\n"
     ]
    }
   ],
   "source": [
    "import pandas as pd\n",
    "\n",
    "#Reading and cleaning drug_name\n",
    "df['drug_name'] = df['drug_name'].astype(str).str.lower().str.strip()\n",
    "df['side_effects'] = df['side_effects'].astype(str).str.strip()\n",
    "\n",
    "# Building dictionary of most common side_effects per drug_name\n",
    "side_effect_map = (\n",
    "    df[df['side_effects'].notnull() & (df['side_effects'] != 'nan')]\n",
    "    .groupby('drug_name')['side_effects']\n",
    "    .agg(lambda x: x.value_counts().index[0])\n",
    "    .to_dict()\n",
    ")\n",
    "\n",
    "#Filling missing side_effects using this map\n",
    "def fill_side_effect(row):\n",
    "    if pd.isnull(row['side_effects']) or row['side_effects'] == 'nan':\n",
    "        return side_effect_map.get(row['drug_name'], None)\n",
    "    return row['side_effects']\n",
    "\n",
    "df['side_effects'] = df.apply(fill_side_effect, axis=1)\n",
    "\n",
    "# Step 3: Filling still-missing side_effects with placeholder\n",
    "df['side_effects'] = df['side_effects'].fillna('unknown side effects')\n",
    "\n",
    "print(\"Remaining nulls in side_effects:\", df['side_effects'].isnull().sum())\n"
   ]
  },
  {
   "cell_type": "code",
   "execution_count": 55,
   "id": "ece9c26e",
   "metadata": {},
   "outputs": [
    {
     "data": {
      "text/plain": [
       "drug_name                0\n",
       "medical_condition        0\n",
       "side_effects             0\n",
       "drug_classes            82\n",
       "activity                 0\n",
       "pregnancy_category     229\n",
       "rating                1345\n",
       "no_of_reviews         1345\n",
       "dtype: int64"
      ]
     },
     "execution_count": 55,
     "metadata": {},
     "output_type": "execute_result"
    }
   ],
   "source": [
    "df.isnull().sum()"
   ]
  },
  {
   "cell_type": "code",
   "execution_count": null,
   "id": "e141a40b",
   "metadata": {},
   "outputs": [
    {
     "name": "stdout",
     "output_type": "stream",
     "text": [
      "Remaining nulls in drug_classes: 0\n"
     ]
    }
   ],
   "source": [
    "# Step 1: Cleaning 'drug_name' and 'drug_classes'\n",
    "df['drug_name'] = df['drug_name'].astype(str).str.lower().str.strip()\n",
    "df['drug_classes'] = df['drug_classes'].astype(str).str.strip()\n",
    "\n",
    "# Step 2: Creating a mapping of most frequent drug_classes per drug_name\n",
    "drug_class_map = (\n",
    "    df[df['drug_classes'].notnull() & (df['drug_classes'] != 'nan')]\n",
    "    .groupby('drug_name')['drug_classes']\n",
    "    .agg(lambda x: x.value_counts().index[0])\n",
    "    .to_dict()\n",
    ")\n",
    "\n",
    "# Step 3: Filling missing drug_classes based on drug_name\n",
    "def fill_drug_class(row):\n",
    "    if pd.isnull(row['drug_classes']) or row['drug_classes'] == 'nan':\n",
    "        return drug_class_map.get(row['drug_name'], None)\n",
    "    return row['drug_classes']\n",
    "\n",
    "df['drug_classes'] = df.apply(fill_drug_class, axis=1)\n",
    "\n",
    "# Step 4: Filling any remaining missing values (if needed)\n",
    "df['drug_classes'] = df['drug_classes'].fillna(\"unknown drug class\")\n",
    "\n",
    "# Step 5: Checking remaining nulls\n",
    "print(\"Remaining nulls in drug_classes:\", df['drug_classes'].isnull().sum())\n"
   ]
  },
  {
   "cell_type": "code",
   "execution_count": null,
   "id": "2d0c8d40",
   "metadata": {},
   "outputs": [
    {
     "data": {
      "text/html": [
       "<div>\n",
       "<style scoped>\n",
       "    .dataframe tbody tr th:only-of-type {\n",
       "        vertical-align: middle;\n",
       "    }\n",
       "\n",
       "    .dataframe tbody tr th {\n",
       "        vertical-align: top;\n",
       "    }\n",
       "\n",
       "    .dataframe thead th {\n",
       "        text-align: right;\n",
       "    }\n",
       "</style>\n",
       "<table border=\"1\" class=\"dataframe\">\n",
       "  <thead>\n",
       "    <tr style=\"text-align: right;\">\n",
       "      <th></th>\n",
       "      <th>drug_name</th>\n",
       "      <th>drug_classes</th>\n",
       "    </tr>\n",
       "  </thead>\n",
       "  <tbody>\n",
       "  </tbody>\n",
       "</table>\n",
       "</div>"
      ],
      "text/plain": [
       "Empty DataFrame\n",
       "Columns: [drug_name, drug_classes]\n",
       "Index: []"
      ]
     },
     "execution_count": 57,
     "metadata": {},
     "output_type": "execute_result"
    }
   ],
   "source": [
    "# To checking if logic worked\n",
    "df[df['drug_classes'].isnull()][['drug_name', 'drug_classes']].head()\n"
   ]
  },
  {
   "cell_type": "code",
   "execution_count": null,
   "id": "08410edb",
   "metadata": {},
   "outputs": [
    {
     "name": "stdout",
     "output_type": "stream",
     "text": [
      "Remaining nulls: 0\n"
     ]
    }
   ],
   "source": [
    "# Step 1: Cleaning columns\n",
    "df['drug_name'] = df['drug_name'].astype(str).str.lower().str.strip()\n",
    "df['pregnancy_category'] = df['pregnancy_category'].astype(str).str.strip()\n",
    "\n",
    "# Step 2: Creating mapping from drug_name to most frequent pregnancy_category\n",
    "preg_category_map = (\n",
    "    df[df['pregnancy_category'].notnull() & (df['pregnancy_category'] != 'nan')]\n",
    "    .groupby('drug_name')['pregnancy_category']\n",
    "    .agg(lambda x: x.value_counts().index[0])\n",
    "    .to_dict()\n",
    ")\n",
    "\n",
    "# Step 3: Filling missing pregnancy_category based on drug_name\n",
    "def fill_preg_category(row):\n",
    "    if pd.isnull(row['pregnancy_category']) or row['pregnancy_category'] == 'nan':\n",
    "        return preg_category_map.get(row['drug_name'], None)\n",
    "    return row['pregnancy_category']\n",
    "\n",
    "df['pregnancy_category'] = df.apply(fill_preg_category, axis=1)\n",
    "\n",
    "# Step 4: Filingl remaining with 'unknown'\n",
    "df['pregnancy_category'] = df['pregnancy_category'].fillna('unknown')\n",
    "\n",
    "# Step 5: Checking remaining nulls\n",
    "print(\"Remaining nulls:\", df['pregnancy_category'].isnull().sum())\n"
   ]
  },
  {
   "cell_type": "code",
   "execution_count": 59,
   "id": "c998a14d",
   "metadata": {},
   "outputs": [
    {
     "data": {
      "text/plain": [
       "drug_name                0\n",
       "medical_condition        0\n",
       "side_effects             0\n",
       "drug_classes             0\n",
       "activity                 0\n",
       "pregnancy_category       0\n",
       "rating                1345\n",
       "no_of_reviews         1345\n",
       "dtype: int64"
      ]
     },
     "execution_count": 59,
     "metadata": {},
     "output_type": "execute_result"
    }
   ],
   "source": [
    "df.isnull().sum()\n"
   ]
  },
  {
   "cell_type": "code",
   "execution_count": 60,
   "id": "3a820167",
   "metadata": {},
   "outputs": [],
   "source": [
    "# Filling missing rating and no_of_reviews with 0 (indicating no feedback)\n",
    "df['rating'] = df['rating'].fillna(0)\n",
    "df['no_of_reviews'] = df['no_of_reviews'].fillna(0)\n"
   ]
  },
  {
   "cell_type": "code",
   "execution_count": 61,
   "id": "cf6cd319",
   "metadata": {},
   "outputs": [
    {
     "data": {
      "text/plain": [
       "drug_name             0\n",
       "medical_condition     0\n",
       "side_effects          0\n",
       "drug_classes          0\n",
       "activity              0\n",
       "pregnancy_category    0\n",
       "rating                0\n",
       "no_of_reviews         0\n",
       "dtype: int64"
      ]
     },
     "execution_count": 61,
     "metadata": {},
     "output_type": "execute_result"
    }
   ],
   "source": [
    "df.isnull().sum()"
   ]
  },
  {
   "cell_type": "code",
   "execution_count": 62,
   "id": "a6d34422",
   "metadata": {},
   "outputs": [
    {
     "data": {
      "text/plain": [
       "'hives ; difficulty breathing; swelling of your face, lips, tongue, or throat. Call your doctor at once if you have: a light-headed feeling, like you might pass out; little or no urination; high potassium level - nausea , weakness, tingly feeling, chest pain, irregular heartbeats, loss of movement; o signs of other electrolyte imbalances - increased thirst or urination, confusion, vomiting , muscle pain, slurred speech, severe weakness, numbness , loss of coordination, feeling unsteady. Common spironolactone side effects may include: breast swelling or tenderness.'"
      ]
     },
     "execution_count": 62,
     "metadata": {},
     "output_type": "execute_result"
    }
   ],
   "source": [
    "df['side_effects'][1]"
   ]
  },
  {
   "cell_type": "markdown",
   "id": "76de2c2b",
   "metadata": {},
   "source": [
    "Label encoding\n"
   ]
  },
  {
   "cell_type": "code",
   "execution_count": 63,
   "id": "5c004e57",
   "metadata": {},
   "outputs": [
    {
     "name": "stdout",
     "output_type": "stream",
     "text": [
      "Requirement already satisfied: scikit-learn in c:\\users\\iqra shaikh\\onedrive\\documents\\github\\drug_side_effect_predictor\\venv\\lib\\site-packages (1.7.0)\n",
      "Requirement already satisfied: numpy>=1.22.0 in c:\\users\\iqra shaikh\\onedrive\\documents\\github\\drug_side_effect_predictor\\venv\\lib\\site-packages (from scikit-learn) (2.3.1)\n",
      "Requirement already satisfied: scipy>=1.8.0 in c:\\users\\iqra shaikh\\onedrive\\documents\\github\\drug_side_effect_predictor\\venv\\lib\\site-packages (from scikit-learn) (1.16.0)\n",
      "Requirement already satisfied: joblib>=1.2.0 in c:\\users\\iqra shaikh\\onedrive\\documents\\github\\drug_side_effect_predictor\\venv\\lib\\site-packages (from scikit-learn) (1.5.1)\n",
      "Requirement already satisfied: threadpoolctl>=3.1.0 in c:\\users\\iqra shaikh\\onedrive\\documents\\github\\drug_side_effect_predictor\\venv\\lib\\site-packages (from scikit-learn) (3.6.0)\n",
      "Note: you may need to restart the kernel to use updated packages.\n"
     ]
    },
    {
     "name": "stderr",
     "output_type": "stream",
     "text": [
      "\n",
      "[notice] A new release of pip is available: 24.0 -> 25.1.1\n",
      "[notice] To update, run: c:\\Users\\IQRA SHAIKH\\OneDrive\\Documents\\GitHub\\Drug_side_effect_predictor\\venv\\Scripts\\python.exe -m pip install --upgrade pip\n"
     ]
    }
   ],
   "source": [
    "%pip install scikit-learn\n",
    "\n",
    "from sklearn.preprocessing import LabelEncoder\n",
    "\n",
    "le = LabelEncoder()\n",
    "df['drug_name'] = le.fit_transform(df['drug_name'])\n",
    "df['drug_classes'] = le.fit_transform(df['drug_classes'])\n",
    "df['pregnancy_category'] = le.fit_transform(df['pregnancy_category'])"
   ]
  },
  {
   "cell_type": "code",
   "execution_count": 64,
   "id": "0b5b68bc",
   "metadata": {},
   "outputs": [
    {
     "data": {
      "text/html": [
       "<div>\n",
       "<style scoped>\n",
       "    .dataframe tbody tr th:only-of-type {\n",
       "        vertical-align: middle;\n",
       "    }\n",
       "\n",
       "    .dataframe tbody tr th {\n",
       "        vertical-align: top;\n",
       "    }\n",
       "\n",
       "    .dataframe thead th {\n",
       "        text-align: right;\n",
       "    }\n",
       "</style>\n",
       "<table border=\"1\" class=\"dataframe\">\n",
       "  <thead>\n",
       "    <tr style=\"text-align: right;\">\n",
       "      <th></th>\n",
       "      <th>drug_name</th>\n",
       "      <th>medical_condition</th>\n",
       "      <th>side_effects</th>\n",
       "      <th>drug_classes</th>\n",
       "      <th>activity</th>\n",
       "      <th>pregnancy_category</th>\n",
       "      <th>rating</th>\n",
       "      <th>no_of_reviews</th>\n",
       "    </tr>\n",
       "  </thead>\n",
       "  <tbody>\n",
       "    <tr>\n",
       "      <th>0</th>\n",
       "      <td>1065</td>\n",
       "      <td>Acne</td>\n",
       "      <td>(hives, difficult breathing, swelling in your ...</td>\n",
       "      <td>165</td>\n",
       "      <td>87%</td>\n",
       "      <td>3</td>\n",
       "      <td>6.8</td>\n",
       "      <td>760.0</td>\n",
       "    </tr>\n",
       "    <tr>\n",
       "      <th>1</th>\n",
       "      <td>2433</td>\n",
       "      <td>Acne</td>\n",
       "      <td>hives ; difficulty breathing; swelling of your...</td>\n",
       "      <td>9</td>\n",
       "      <td>82%</td>\n",
       "      <td>2</td>\n",
       "      <td>7.2</td>\n",
       "      <td>449.0</td>\n",
       "    </tr>\n",
       "    <tr>\n",
       "      <th>2</th>\n",
       "      <td>1840</td>\n",
       "      <td>Acne</td>\n",
       "      <td>skin rash, fever, swollen glands, flu-like sym...</td>\n",
       "      <td>237</td>\n",
       "      <td>48%</td>\n",
       "      <td>3</td>\n",
       "      <td>5.7</td>\n",
       "      <td>482.0</td>\n",
       "    </tr>\n",
       "    <tr>\n",
       "      <th>3</th>\n",
       "      <td>25</td>\n",
       "      <td>Acne</td>\n",
       "      <td>problems with your vision or hearing; muscle o...</td>\n",
       "      <td>167</td>\n",
       "      <td>41%</td>\n",
       "      <td>5</td>\n",
       "      <td>7.9</td>\n",
       "      <td>623.0</td>\n",
       "    </tr>\n",
       "    <tr>\n",
       "      <th>4</th>\n",
       "      <td>779</td>\n",
       "      <td>Acne</td>\n",
       "      <td>hives ; difficult breathing; swelling of your ...</td>\n",
       "      <td>250</td>\n",
       "      <td>39%</td>\n",
       "      <td>1</td>\n",
       "      <td>7.4</td>\n",
       "      <td>146.0</td>\n",
       "    </tr>\n",
       "  </tbody>\n",
       "</table>\n",
       "</div>"
      ],
      "text/plain": [
       "   drug_name medical_condition  \\\n",
       "0       1065              Acne   \n",
       "1       2433              Acne   \n",
       "2       1840              Acne   \n",
       "3         25              Acne   \n",
       "4        779              Acne   \n",
       "\n",
       "                                        side_effects  drug_classes activity  \\\n",
       "0  (hives, difficult breathing, swelling in your ...           165      87%   \n",
       "1  hives ; difficulty breathing; swelling of your...             9      82%   \n",
       "2  skin rash, fever, swollen glands, flu-like sym...           237      48%   \n",
       "3  problems with your vision or hearing; muscle o...           167      41%   \n",
       "4  hives ; difficult breathing; swelling of your ...           250      39%   \n",
       "\n",
       "   pregnancy_category  rating  no_of_reviews  \n",
       "0                   3     6.8          760.0  \n",
       "1                   2     7.2          449.0  \n",
       "2                   3     5.7          482.0  \n",
       "3                   5     7.9          623.0  \n",
       "4                   1     7.4          146.0  "
      ]
     },
     "execution_count": 64,
     "metadata": {},
     "output_type": "execute_result"
    }
   ],
   "source": [
    "df.head()"
   ]
  },
  {
   "cell_type": "code",
   "execution_count": 65,
   "id": "a04b96be",
   "metadata": {},
   "outputs": [],
   "source": [
    "df['activity'] = df['activity'].str.replace('%', '').astype(float)"
   ]
  },
  {
   "cell_type": "code",
   "execution_count": 66,
   "id": "b53f0ab9",
   "metadata": {},
   "outputs": [],
   "source": [
    "import re\n",
    "\n",
    "def clean_text(text):\n",
    "    text = re.sub(r'[^a-zA-Z\\s]', '', text)  # removing special characters\n",
    "    text = re.sub(r'\\s+', ' ', text)         # removing extra spaces\n",
    "    return text.lower().strip()\n",
    "\n",
    "df['side_effects'] = df['side_effects'].astype(str).apply(clean_text)\n"
   ]
  },
  {
   "cell_type": "code",
   "execution_count": 67,
   "id": "0e40371e",
   "metadata": {},
   "outputs": [
    {
     "data": {
      "text/plain": [
       "'hives difficulty breathing swelling of your face lips tongue or throat call your doctor at once if you have a lightheaded feeling like you might pass out little or no urination high potassium level nausea weakness tingly feeling chest pain irregular heartbeats loss of movement o signs of other electrolyte imbalances increased thirst or urination confusion vomiting muscle pain slurred speech severe weakness numbness loss of coordination feeling unsteady common spironolactone side effects may include breast swelling or tenderness'"
      ]
     },
     "execution_count": 67,
     "metadata": {},
     "output_type": "execute_result"
    }
   ],
   "source": [
    "df['side_effects'][1]"
   ]
  },
  {
   "cell_type": "markdown",
   "id": "8089872c",
   "metadata": {},
   "source": [
    "hives difficulty breathing swelling of your face lips tongue or throat call your doctor at once if you have a lightheaded feeling like you might pass out little or no urination high potassium level nausea weakness tingly feeling chest pain irregular heartbeats loss of movement o signs of other electrolyte imbalances increased thirst or urination confusion vomiting muscle pain slurred speech severe weakness numbness loss of coordination feeling unsteady common spironolactone side effects may include breast swelling or tenderness"
   ]
  },
  {
   "cell_type": "code",
   "execution_count": 68,
   "id": "f1e8e3b3",
   "metadata": {},
   "outputs": [],
   "source": [
    "def classify_side_effects_multi(text):\n",
    "    categories = []\n",
    "    text = str(text).lower()\n",
    "\n",
    "    if 'nausea' in text or 'vomiting' in text:\n",
    "        categories.append('gastrointestinal')\n",
    "    if \"swelling\" in text or \"hives\" in text or \"breathing\" in text:\n",
    "        categories.append(\"allergic\")\n",
    "    if \"dizziness\" in text or \"lightheaded\" in text or \"faint\" in text or \"confusion\" in text or \"slurred\" in text:\n",
    "        categories.append(\"neurological\")\n",
    "    if \"urination\" in text or \"kidney\" in text or \"thirst\" in text:\n",
    "        categories.append(\"renal\")\n",
    "    if \"pain\" in text or \"muscle\" in text:\n",
    "        categories.append(\"muscle_pain\")\n",
    "    if \"heart\" in text or \"chest\" in text:\n",
    "        categories.append(\"cardiovascular\")\n",
    "    if \"liver\" in text or \"hepatitis\" in text:\n",
    "        categories.append(\"liver\")\n",
    "    if \"rash\" in text or \"itching\" in text:\n",
    "        categories.append(\"dermatological\")\n",
    "    if \"fever\" in text or \"chills\" in text:\n",
    "        categories.append(\"systemic\")\n",
    "    if \"sleep\" in text or \"insomnia\" in text:\n",
    "        categories.append(\"sleep_disorder\")\n",
    "    if \"anxiety\" in text or \"depression\" in text:\n",
    "        categories.append(\"mental_health\")\n",
    "    if \"vision\" in text or \"sight\" in text:\n",
    "        categories.append(\"vision\")\n",
    "    if \"hearing\" in text or \"auditory\" in text:\n",
    "        categories.append(\"hearing\")\n",
    "    if \"sexual\" in text or \"libido\" in text:\n",
    "        categories.append(\"sexual_health\")\n",
    "    if \"weight\" in text or \"appetite\" in text:\n",
    "        categories.append(\"weight_appetite\")\n",
    "    if \"blood\" in text or \"pressure\" in text:\n",
    "        categories.append(\"blood_pressure\")\n",
    "    if \"diabetes\" in text or \"sugar\" in text:\n",
    "        categories.append(\"diabetes\")\n",
    "\n",
    "    if not categories:\n",
    "        categories.append(\"other\")\n",
    "\n",
    "    return categories\n"
   ]
  },
  {
   "cell_type": "code",
   "execution_count": 69,
   "id": "c646b794",
   "metadata": {},
   "outputs": [],
   "source": [
    "df['side_effect_categories'] = df['side_effects'].apply(classify_side_effects_multi)"
   ]
  },
  {
   "cell_type": "code",
   "execution_count": 70,
   "id": "10181b15",
   "metadata": {},
   "outputs": [
    {
     "data": {
      "text/html": [
       "<div>\n",
       "<style scoped>\n",
       "    .dataframe tbody tr th:only-of-type {\n",
       "        vertical-align: middle;\n",
       "    }\n",
       "\n",
       "    .dataframe tbody tr th {\n",
       "        vertical-align: top;\n",
       "    }\n",
       "\n",
       "    .dataframe thead th {\n",
       "        text-align: right;\n",
       "    }\n",
       "</style>\n",
       "<table border=\"1\" class=\"dataframe\">\n",
       "  <thead>\n",
       "    <tr style=\"text-align: right;\">\n",
       "      <th></th>\n",
       "      <th>drug_name</th>\n",
       "      <th>medical_condition</th>\n",
       "      <th>side_effects</th>\n",
       "      <th>drug_classes</th>\n",
       "      <th>activity</th>\n",
       "      <th>pregnancy_category</th>\n",
       "      <th>rating</th>\n",
       "      <th>no_of_reviews</th>\n",
       "      <th>side_effect_categories</th>\n",
       "    </tr>\n",
       "  </thead>\n",
       "  <tbody>\n",
       "    <tr>\n",
       "      <th>0</th>\n",
       "      <td>1065</td>\n",
       "      <td>Acne</td>\n",
       "      <td>hives difficult breathing swelling in your fac...</td>\n",
       "      <td>165</td>\n",
       "      <td>87.0</td>\n",
       "      <td>3</td>\n",
       "      <td>6.8</td>\n",
       "      <td>760.0</td>\n",
       "      <td>[gastrointestinal, allergic, neurological, ren...</td>\n",
       "    </tr>\n",
       "    <tr>\n",
       "      <th>1</th>\n",
       "      <td>2433</td>\n",
       "      <td>Acne</td>\n",
       "      <td>hives difficulty breathing swelling of your fa...</td>\n",
       "      <td>9</td>\n",
       "      <td>82.0</td>\n",
       "      <td>2</td>\n",
       "      <td>7.2</td>\n",
       "      <td>449.0</td>\n",
       "      <td>[gastrointestinal, allergic, neurological, ren...</td>\n",
       "    </tr>\n",
       "    <tr>\n",
       "      <th>2</th>\n",
       "      <td>1840</td>\n",
       "      <td>Acne</td>\n",
       "      <td>skin rash fever swollen glands flulike symptom...</td>\n",
       "      <td>237</td>\n",
       "      <td>48.0</td>\n",
       "      <td>3</td>\n",
       "      <td>5.7</td>\n",
       "      <td>482.0</td>\n",
       "      <td>[gastrointestinal, allergic, neurological, ren...</td>\n",
       "    </tr>\n",
       "    <tr>\n",
       "      <th>3</th>\n",
       "      <td>25</td>\n",
       "      <td>Acne</td>\n",
       "      <td>problems with your vision or hearing muscle or...</td>\n",
       "      <td>167</td>\n",
       "      <td>41.0</td>\n",
       "      <td>5</td>\n",
       "      <td>7.9</td>\n",
       "      <td>623.0</td>\n",
       "      <td>[gastrointestinal, neurological, renal, muscle...</td>\n",
       "    </tr>\n",
       "    <tr>\n",
       "      <th>4</th>\n",
       "      <td>779</td>\n",
       "      <td>Acne</td>\n",
       "      <td>hives difficult breathing swelling of your fac...</td>\n",
       "      <td>250</td>\n",
       "      <td>39.0</td>\n",
       "      <td>1</td>\n",
       "      <td>7.4</td>\n",
       "      <td>146.0</td>\n",
       "      <td>[allergic, muscle_pain, dermatological, blood_...</td>\n",
       "    </tr>\n",
       "  </tbody>\n",
       "</table>\n",
       "</div>"
      ],
      "text/plain": [
       "   drug_name medical_condition  \\\n",
       "0       1065              Acne   \n",
       "1       2433              Acne   \n",
       "2       1840              Acne   \n",
       "3         25              Acne   \n",
       "4        779              Acne   \n",
       "\n",
       "                                        side_effects  drug_classes  activity  \\\n",
       "0  hives difficult breathing swelling in your fac...           165      87.0   \n",
       "1  hives difficulty breathing swelling of your fa...             9      82.0   \n",
       "2  skin rash fever swollen glands flulike symptom...           237      48.0   \n",
       "3  problems with your vision or hearing muscle or...           167      41.0   \n",
       "4  hives difficult breathing swelling of your fac...           250      39.0   \n",
       "\n",
       "   pregnancy_category  rating  no_of_reviews  \\\n",
       "0                   3     6.8          760.0   \n",
       "1                   2     7.2          449.0   \n",
       "2                   3     5.7          482.0   \n",
       "3                   5     7.9          623.0   \n",
       "4                   1     7.4          146.0   \n",
       "\n",
       "                              side_effect_categories  \n",
       "0  [gastrointestinal, allergic, neurological, ren...  \n",
       "1  [gastrointestinal, allergic, neurological, ren...  \n",
       "2  [gastrointestinal, allergic, neurological, ren...  \n",
       "3  [gastrointestinal, neurological, renal, muscle...  \n",
       "4  [allergic, muscle_pain, dermatological, blood_...  "
      ]
     },
     "execution_count": 70,
     "metadata": {},
     "output_type": "execute_result"
    }
   ],
   "source": [
    "df.head(5)"
   ]
  },
  {
   "cell_type": "code",
   "execution_count": 72,
   "id": "6dea0378",
   "metadata": {},
   "outputs": [
    {
     "data": {
      "text/plain": [
       "['gastrointestinal',\n",
       " 'allergic',\n",
       " 'neurological',\n",
       " 'renal',\n",
       " 'muscle_pain',\n",
       " 'cardiovascular']"
      ]
     },
     "execution_count": 72,
     "metadata": {},
     "output_type": "execute_result"
    }
   ],
   "source": [
    "df['side_effect_categories'][1]"
   ]
  },
  {
   "cell_type": "code",
   "execution_count": 73,
   "id": "fe9aba0d",
   "metadata": {},
   "outputs": [
    {
     "name": "stdout",
     "output_type": "stream",
     "text": [
      "['allergic', 'blood_pressure', 'cardiovascular', 'dermatological', 'diabetes', 'gastrointestinal', 'hearing', 'liver', 'mental_health', 'muscle_pain', 'neurological', 'other', 'renal', 'sexual_health', 'sleep_disorder', 'systemic', 'vision', 'weight_appetite']\n"
     ]
    }
   ],
   "source": [
    "from itertools import chain\n",
    "\n",
    "all_labels = set(chain.from_iterable(df['side_effect_categories']))\n",
    "print(sorted(all_labels))"
   ]
  },
  {
   "cell_type": "code",
   "execution_count": null,
   "id": "ea835cbd",
   "metadata": {},
   "outputs": [],
   "source": [
    "# Encoding side_effect (multi-label)\n",
    "from sklearn.preprocessing import MultiLabelBinarizer, LabelEncoder\n",
    "mlb = MultiLabelBinarizer()\n",
    "y1 = mlb.fit_transform(df['side_effect_categories'])\n",
    "# Encoding medical_condition (single-label)\n",
    "le_medical = LabelEncoder()\n",
    "y2 = le_medical.fit_transform(df['medical_condition'])"
   ]
  },
  {
   "cell_type": "code",
   "execution_count": 75,
   "id": "dffb7f10",
   "metadata": {},
   "outputs": [
    {
     "data": {
      "text/html": [
       "<div>\n",
       "<style scoped>\n",
       "    .dataframe tbody tr th:only-of-type {\n",
       "        vertical-align: middle;\n",
       "    }\n",
       "\n",
       "    .dataframe tbody tr th {\n",
       "        vertical-align: top;\n",
       "    }\n",
       "\n",
       "    .dataframe thead th {\n",
       "        text-align: right;\n",
       "    }\n",
       "</style>\n",
       "<table border=\"1\" class=\"dataframe\">\n",
       "  <thead>\n",
       "    <tr style=\"text-align: right;\">\n",
       "      <th></th>\n",
       "      <th>drug_name</th>\n",
       "      <th>medical_condition</th>\n",
       "      <th>side_effects</th>\n",
       "      <th>drug_classes</th>\n",
       "      <th>activity</th>\n",
       "      <th>pregnancy_category</th>\n",
       "      <th>rating</th>\n",
       "      <th>no_of_reviews</th>\n",
       "      <th>side_effect_categories</th>\n",
       "    </tr>\n",
       "  </thead>\n",
       "  <tbody>\n",
       "    <tr>\n",
       "      <th>0</th>\n",
       "      <td>1065</td>\n",
       "      <td>Acne</td>\n",
       "      <td>hives difficult breathing swelling in your fac...</td>\n",
       "      <td>165</td>\n",
       "      <td>87.0</td>\n",
       "      <td>3</td>\n",
       "      <td>6.8</td>\n",
       "      <td>760.0</td>\n",
       "      <td>[gastrointestinal, allergic, neurological, ren...</td>\n",
       "    </tr>\n",
       "    <tr>\n",
       "      <th>1</th>\n",
       "      <td>2433</td>\n",
       "      <td>Acne</td>\n",
       "      <td>hives difficulty breathing swelling of your fa...</td>\n",
       "      <td>9</td>\n",
       "      <td>82.0</td>\n",
       "      <td>2</td>\n",
       "      <td>7.2</td>\n",
       "      <td>449.0</td>\n",
       "      <td>[gastrointestinal, allergic, neurological, ren...</td>\n",
       "    </tr>\n",
       "    <tr>\n",
       "      <th>2</th>\n",
       "      <td>1840</td>\n",
       "      <td>Acne</td>\n",
       "      <td>skin rash fever swollen glands flulike symptom...</td>\n",
       "      <td>237</td>\n",
       "      <td>48.0</td>\n",
       "      <td>3</td>\n",
       "      <td>5.7</td>\n",
       "      <td>482.0</td>\n",
       "      <td>[gastrointestinal, allergic, neurological, ren...</td>\n",
       "    </tr>\n",
       "    <tr>\n",
       "      <th>3</th>\n",
       "      <td>25</td>\n",
       "      <td>Acne</td>\n",
       "      <td>problems with your vision or hearing muscle or...</td>\n",
       "      <td>167</td>\n",
       "      <td>41.0</td>\n",
       "      <td>5</td>\n",
       "      <td>7.9</td>\n",
       "      <td>623.0</td>\n",
       "      <td>[gastrointestinal, neurological, renal, muscle...</td>\n",
       "    </tr>\n",
       "    <tr>\n",
       "      <th>4</th>\n",
       "      <td>779</td>\n",
       "      <td>Acne</td>\n",
       "      <td>hives difficult breathing swelling of your fac...</td>\n",
       "      <td>250</td>\n",
       "      <td>39.0</td>\n",
       "      <td>1</td>\n",
       "      <td>7.4</td>\n",
       "      <td>146.0</td>\n",
       "      <td>[allergic, muscle_pain, dermatological, blood_...</td>\n",
       "    </tr>\n",
       "  </tbody>\n",
       "</table>\n",
       "</div>"
      ],
      "text/plain": [
       "   drug_name medical_condition  \\\n",
       "0       1065              Acne   \n",
       "1       2433              Acne   \n",
       "2       1840              Acne   \n",
       "3         25              Acne   \n",
       "4        779              Acne   \n",
       "\n",
       "                                        side_effects  drug_classes  activity  \\\n",
       "0  hives difficult breathing swelling in your fac...           165      87.0   \n",
       "1  hives difficulty breathing swelling of your fa...             9      82.0   \n",
       "2  skin rash fever swollen glands flulike symptom...           237      48.0   \n",
       "3  problems with your vision or hearing muscle or...           167      41.0   \n",
       "4  hives difficult breathing swelling of your fac...           250      39.0   \n",
       "\n",
       "   pregnancy_category  rating  no_of_reviews  \\\n",
       "0                   3     6.8          760.0   \n",
       "1                   2     7.2          449.0   \n",
       "2                   3     5.7          482.0   \n",
       "3                   5     7.9          623.0   \n",
       "4                   1     7.4          146.0   \n",
       "\n",
       "                              side_effect_categories  \n",
       "0  [gastrointestinal, allergic, neurological, ren...  \n",
       "1  [gastrointestinal, allergic, neurological, ren...  \n",
       "2  [gastrointestinal, allergic, neurological, ren...  \n",
       "3  [gastrointestinal, neurological, renal, muscle...  \n",
       "4  [allergic, muscle_pain, dermatological, blood_...  "
      ]
     },
     "execution_count": 75,
     "metadata": {},
     "output_type": "execute_result"
    }
   ],
   "source": [
    "df.head()"
   ]
  },
  {
   "cell_type": "markdown",
   "id": "c26085e7",
   "metadata": {},
   "source": [
    "# saving the clean dataset\n"
   ]
  },
  {
   "cell_type": "code",
   "execution_count": 76,
   "id": "e87069ca",
   "metadata": {},
   "outputs": [],
   "source": [
    "cleaned_df = df.drop(columns=['side_effects'])"
   ]
  },
  {
   "cell_type": "code",
   "execution_count": 78,
   "id": "4d1be0ff",
   "metadata": {},
   "outputs": [
    {
     "name": "stdout",
     "output_type": "stream",
     "text": [
      "✅ Cleaned dataset saved successfully as 'cleaned_drug_data.csv'.\n"
     ]
    }
   ],
   "source": [
    "cleaned_df.to_csv(r\"C:\\Users\\IQRA SHAIKH\\OneDrive\\Documents\\GitHub\\Drug_side_effect_predictor\\projects_files\\cleaned_dataset.csv\", index=False)\n",
    "\n",
    "print(\"✅ Cleaned dataset saved successfully as 'cleaned_drug_data.csv'.\")"
   ]
  }
 ],
 "metadata": {
  "kernelspec": {
   "display_name": "venv",
   "language": "python",
   "name": "python3"
  },
  "language_info": {
   "codemirror_mode": {
    "name": "ipython",
    "version": 3
   },
   "file_extension": ".py",
   "mimetype": "text/x-python",
   "name": "python",
   "nbconvert_exporter": "python",
   "pygments_lexer": "ipython3",
   "version": "3.12.3"
  }
 },
 "nbformat": 4,
 "nbformat_minor": 5
}
